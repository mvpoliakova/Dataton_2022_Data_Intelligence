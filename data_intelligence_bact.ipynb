{
 "cells": [
  {
   "cell_type": "code",
   "execution_count": 2,
   "id": "7b62e54b",
   "metadata": {
    "id": "7b62e54b"
   },
   "outputs": [],
   "source": [
    "import numpy as np\n",
    "import pandas as pd\n",
    "import seaborn as sns\n",
    "import matplotlib.pyplot as plt\n",
    "\n",
    "from sklearn.metrics import f1_score\n",
    "from sklearn.metrics import roc_auc_score\n",
    "from sklearn.metrics import roc_curve, auc\n",
    "\n",
    "from lightgbm import LGBMClassifier\n",
    "from sklearn.model_selection import GridSearchCV\n",
    "from sklearn.model_selection import train_test_split"
   ]
  },
  {
   "cell_type": "markdown",
   "id": "3e3b3061",
   "metadata": {},
   "source": [
    "# Бактериемия у пациентов многопрофильного стационара\n",
    "\n",
    "# Дататон 2022, команда Data Intelligence"
   ]
  },
  {
   "cell_type": "markdown",
   "id": "10de785f",
   "metadata": {},
   "source": [
    "В датасете представлены данные посева крови пациентов многопрофильного стационара за 3 года: 2017, 2018 и 2019. \n",
    "Посев выполняется на селективных средах с целью идентификации бактерий, которые могут присутствовать в образцах.\n",
    "Представлены данные о  данных о контаминации материала; времени (в рабочих днях), затраченном на получение результата; антибиотикограмм; систем, которые применялись в работе; эпизодах задержки материала из отделения на срок более суток; диагнозах; отделениях; видах и родах микроорганизмов\n",
    "\n",
    "Признаки в датасете описаны в файле README\n",
    "\n",
    "Подготовленные данные предназначены для применения моделей машинного обучения с целью предсказания продолжительности и результата культивирования образцов. Продолжительность культивирования имеет значение для выбора лечения и для планирования ресурсов.\n",
    "\n",
    "В данном ноутбуке представлен анализ распределений и связей между признаками. Кроме того, подгтовлена модель для предсказания, будет ли получен ответ быстро в случае положительного ответа."
   ]
  },
  {
   "cell_type": "markdown",
   "id": "720b9005",
   "metadata": {},
   "source": [
    "## Описание данных"
   ]
  },
  {
   "cell_type": "code",
   "execution_count": 3,
   "id": "57f20c1c",
   "metadata": {},
   "outputs": [],
   "source": [
    "df = pd.read_csv('data/blood_data.csv')"
   ]
  },
  {
   "cell_type": "code",
   "execution_count": 4,
   "id": "f67b49f0",
   "metadata": {},
   "outputs": [
    {
     "data": {
      "text/html": [
       "<div>\n",
       "<style scoped>\n",
       "    .dataframe tbody tr th:only-of-type {\n",
       "        vertical-align: middle;\n",
       "    }\n",
       "\n",
       "    .dataframe tbody tr th {\n",
       "        vertical-align: top;\n",
       "    }\n",
       "\n",
       "    .dataframe thead th {\n",
       "        text-align: right;\n",
       "    }\n",
       "</style>\n",
       "<table border=\"1\" class=\"dataframe\">\n",
       "  <thead>\n",
       "    <tr style=\"text-align: right;\">\n",
       "      <th></th>\n",
       "      <th>year</th>\n",
       "      <th>month</th>\n",
       "      <th>num</th>\n",
       "      <th>department</th>\n",
       "      <th>diagnosis</th>\n",
       "      <th>delay</th>\n",
       "      <th>duration</th>\n",
       "      <th>method</th>\n",
       "      <th>contamination</th>\n",
       "      <th>group</th>\n",
       "      <th>genus</th>\n",
       "      <th>species</th>\n",
       "    </tr>\n",
       "  </thead>\n",
       "  <tbody>\n",
       "    <tr>\n",
       "      <th>0</th>\n",
       "      <td>2017</td>\n",
       "      <td>Январь</td>\n",
       "      <td>1</td>\n",
       "      <td>Реанимация</td>\n",
       "      <td>ОПН(острая почечная недостаточность)</td>\n",
       "      <td>0</td>\n",
       "      <td>3</td>\n",
       "      <td>auto</td>\n",
       "      <td>0</td>\n",
       "      <td>0</td>\n",
       "      <td>0</td>\n",
       "      <td>0</td>\n",
       "    </tr>\n",
       "    <tr>\n",
       "      <th>1</th>\n",
       "      <td>2017</td>\n",
       "      <td>Январь</td>\n",
       "      <td>2</td>\n",
       "      <td>Терапия</td>\n",
       "      <td>ЛНГ(лихорадка неясного генеза)</td>\n",
       "      <td>0</td>\n",
       "      <td>3</td>\n",
       "      <td>manual</td>\n",
       "      <td>0</td>\n",
       "      <td>0</td>\n",
       "      <td>0</td>\n",
       "      <td>0</td>\n",
       "    </tr>\n",
       "    <tr>\n",
       "      <th>2</th>\n",
       "      <td>2017</td>\n",
       "      <td>Январь</td>\n",
       "      <td>3</td>\n",
       "      <td>Пульмонология</td>\n",
       "      <td>Бронхиальная астма</td>\n",
       "      <td>0</td>\n",
       "      <td>3</td>\n",
       "      <td>manual</td>\n",
       "      <td>0</td>\n",
       "      <td>0</td>\n",
       "      <td>0</td>\n",
       "      <td>0</td>\n",
       "    </tr>\n",
       "    <tr>\n",
       "      <th>3</th>\n",
       "      <td>2017</td>\n",
       "      <td>Январь</td>\n",
       "      <td>4</td>\n",
       "      <td>Терапия</td>\n",
       "      <td>Цироз</td>\n",
       "      <td>0</td>\n",
       "      <td>3</td>\n",
       "      <td>manual</td>\n",
       "      <td>0</td>\n",
       "      <td>0</td>\n",
       "      <td>0</td>\n",
       "      <td>0</td>\n",
       "    </tr>\n",
       "    <tr>\n",
       "      <th>4</th>\n",
       "      <td>2017</td>\n",
       "      <td>Январь</td>\n",
       "      <td>5</td>\n",
       "      <td>Пульмонология</td>\n",
       "      <td>Пневмония</td>\n",
       "      <td>0</td>\n",
       "      <td>4</td>\n",
       "      <td>manual</td>\n",
       "      <td>0</td>\n",
       "      <td>Кокки</td>\n",
       "      <td>Staphylococcus</td>\n",
       "      <td>St. aureus</td>\n",
       "    </tr>\n",
       "  </tbody>\n",
       "</table>\n",
       "</div>"
      ],
      "text/plain": [
       "   year   month  num     department                             diagnosis  \\\n",
       "0  2017  Январь    1     Реанимация  ОПН(острая почечная недостаточность)   \n",
       "1  2017  Январь    2        Терапия        ЛНГ(лихорадка неясного генеза)   \n",
       "2  2017  Январь    3  Пульмонология                    Бронхиальная астма   \n",
       "3  2017  Январь    4        Терапия                                 Цироз   \n",
       "4  2017  Январь    5  Пульмонология                             Пневмония   \n",
       "\n",
       "   delay  duration  method  contamination  group           genus     species  \n",
       "0      0         3    auto              0      0               0           0  \n",
       "1      0         3  manual              0      0               0           0  \n",
       "2      0         3  manual              0      0               0           0  \n",
       "3      0         3  manual              0      0               0           0  \n",
       "4      0         4  manual              0  Кокки  Staphylococcus  St. aureus  "
      ]
     },
     "execution_count": 4,
     "metadata": {},
     "output_type": "execute_result"
    }
   ],
   "source": [
    "df.head()"
   ]
  },
  {
   "cell_type": "markdown",
   "id": "6661b4da",
   "metadata": {},
   "source": [
    "Описание данных в колонках:\n",
    "* year - год\n",
    "* month - месяц\n",
    "* num - сквозная нумерация для каждого месяца\n",
    "* department - отделение стационара, из которого поступил образец\n",
    "* diagnosis - диагноз пациента\n",
    "* delay - время от забора материала до начала исследования\n",
    "* duration - продолжительность культивирования до получения результата\n",
    "* method - способ культивирования и регистрации: ручной manual или автоматический auto\n",
    "* contamination - контаминация материала (1) или отсутствие контаминации (0)\n",
    "* group - группа микроорганизмов\n",
    "* genus - род микроорганизмов\n",
    "* species - вид микроорганизмов"
   ]
  },
  {
   "cell_type": "code",
   "execution_count": 5,
   "id": "b699455b",
   "metadata": {
    "scrolled": true
   },
   "outputs": [
    {
     "name": "stdout",
     "output_type": "stream",
     "text": [
      "<class 'pandas.core.frame.DataFrame'>\n",
      "RangeIndex: 9333 entries, 0 to 9332\n",
      "Data columns (total 12 columns):\n",
      " #   Column         Non-Null Count  Dtype \n",
      "---  ------         --------------  ----- \n",
      " 0   year           9333 non-null   int64 \n",
      " 1   month          9333 non-null   object\n",
      " 2   num            9333 non-null   int64 \n",
      " 3   department     9333 non-null   object\n",
      " 4   diagnosis      9333 non-null   object\n",
      " 5   delay          9333 non-null   int64 \n",
      " 6   duration       9333 non-null   int64 \n",
      " 7   method         9333 non-null   object\n",
      " 8   contamination  9333 non-null   int64 \n",
      " 9   group          9333 non-null   object\n",
      " 10  genus          9333 non-null   object\n",
      " 11  species        9333 non-null   object\n",
      "dtypes: int64(5), object(7)\n",
      "memory usage: 875.1+ KB\n"
     ]
    }
   ],
   "source": [
    "df.info()"
   ]
  },
  {
   "cell_type": "markdown",
   "id": "cfa45b9e",
   "metadata": {},
   "source": [
    "### Значения в столбцах\n",
    "\n",
    "**Диагнозы**"
   ]
  },
  {
   "cell_type": "code",
   "execution_count": 6,
   "id": "547e81d7",
   "metadata": {
    "scrolled": false
   },
   "outputs": [
    {
     "data": {
      "text/plain": [
       "array(['ОПН(острая почечная недостаточность)',\n",
       "       'ЛНГ(лихорадка неясного генеза)', 'Бронхиальная астма', 'Цироз',\n",
       "       'Пневмония', 'Бактериальная инфекция', 'Отит',\n",
       "       'Осложнение после родов', 'Рак', 'Ревматоидный артрит',\n",
       "       'ХПН (хроническая почечная недостаточность)', 'Кротечение', 'ОНМК',\n",
       "       'Кома', 'Почечная колика', 'ОРВИ', 'Инфаркт миокарда', 'Ангина',\n",
       "       'ХОБЛ (хроническая обструктивная болезнь лёгких)',\n",
       "       'ТТЖ (тупая травма живота)', 'Энцефалопатия',\n",
       "       'ЖКК (желудочно-кишечными кровотечениями)', 'Сепсис',\n",
       "       'Гломерулонефрит', 'Стеноз', 'ЖКБ (жёлчнокаменная болезнь)',\n",
       "       'Абсцесс', 'Пиелонефрит', 'Эпистатус',\n",
       "       'МКБ (мочекаменная болезнь)', 'Ожог', 'СД (Сахарный диабет)',\n",
       "       'Бактериальный эндокардит', 'Холецистит',\n",
       "       'ИБС (ишемическая болезнь сердца)', 'Панкреатит', 'Перитонит',\n",
       "       'Эндометрит', 'Свищ', 'Колото-резаные раны ',\n",
       "       'ПОХ (поясничный остеохондроз)', 'Ампутация', 'Невралгия',\n",
       "       'Сочетанная травма', 'Колит', 'СКВ(Синдром красной волчанки)',\n",
       "       'Б-нь Крона', 'Менингит', 'Миома', 'Грыжа', 'Орхит', 'Колостома',\n",
       "       'Псориаз', 'Перфорация', 'Выкидыш',\n",
       "       'ОКН (острая кишечная непроходимость)', 'Плеврит', 'Шок',\n",
       "       'Сальпингит', 'Обследование',\n",
       "       'ОНМК (острое нарушение мозгового кровообращения)', 'Гематома',\n",
       "       'ЦВБ (цереброваскулярная болезнь)', 'Гематурия', 'Простатит',\n",
       "       'ГБ (гипертоническая болезнь)', 'Цистит', 'Лейкоз', 'Миелит',\n",
       "       'Киста', 'ЖКК (желудочно-кишечное кровотечение)', 'Кататравма',\n",
       "       'Синусит', 'Полип', 'Туберкулёз', 'ЧМТ(черепно-мозговая травма)',\n",
       "       'Дерматит', 'Язва желудка', 'Аппендицит', 'Анемия', 'Гидронефроз',\n",
       "       'ТЭЛА(тромбоэмболия лёгочной артерии)',\n",
       "       'ОКС(острый коронарный синдром)', 'Перелом', 'Гепатит',\n",
       "       'Нефропатия', 'Некроз', 'Спайки', 'Уретрит', 'Хроническая язва',\n",
       "       'Дивертикулит', 'Тромбоз', 'Гидроцефалит', 'Остеомиелит',\n",
       "       'Атеросклероз', 'ХСН (хроническая сердечная недостаточность)',\n",
       "       'ДВС-синдром (синдром диссеминированного внутрисосудистого свертывания)',\n",
       "       'Пакреатит'], dtype=object)"
      ]
     },
     "execution_count": 6,
     "metadata": {},
     "output_type": "execute_result"
    }
   ],
   "source": [
    "df.diagnosis.unique()"
   ]
  },
  {
   "cell_type": "markdown",
   "id": "5f7e35b2",
   "metadata": {},
   "source": [
    "**Отделения**"
   ]
  },
  {
   "cell_type": "code",
   "execution_count": 7,
   "id": "6c9727a6",
   "metadata": {
    "scrolled": true
   },
   "outputs": [
    {
     "data": {
      "text/plain": [
       "array(['Реанимация', 'Терапия', 'Пульмонология', 'Гинекология',\n",
       "       'Хирургия', 'Ревматология', 'Урология', 'Нефрология',\n",
       "       'Кардиология', 'Неврология', 'ЧЛХ', 'Глазное/ЛОР',\n",
       "       'Гастроэнтерология', 'Ожог', 'Поликлиника', 'Травма',\n",
       "       'Эндокринология', 'Нейрохирургия'], dtype=object)"
      ]
     },
     "execution_count": 7,
     "metadata": {},
     "output_type": "execute_result"
    }
   ],
   "source": [
    "df.department.unique()"
   ]
  },
  {
   "cell_type": "markdown",
   "id": "3fc8d2ef",
   "metadata": {},
   "source": [
    "**Группы бактерий**"
   ]
  },
  {
   "cell_type": "code",
   "execution_count": 8,
   "id": "bdc072bc",
   "metadata": {
    "scrolled": true
   },
   "outputs": [
    {
     "data": {
      "text/plain": [
       "array(['0', 'Кокки', 'Энтеробактерии', 'НГОБ', 'Анаэробы', 'Прочее',\n",
       "       'Грибы'], dtype=object)"
      ]
     },
     "execution_count": 8,
     "metadata": {},
     "output_type": "execute_result"
    }
   ],
   "source": [
    "df.group.unique()"
   ]
  },
  {
   "cell_type": "markdown",
   "id": "c2202613",
   "metadata": {},
   "source": [
    "**Рода бактерий**"
   ]
  },
  {
   "cell_type": "code",
   "execution_count": 9,
   "id": "9a9ad526",
   "metadata": {},
   "outputs": [
    {
     "data": {
      "text/plain": [
       "array(['0', 'Staphylococcus', 'Klebsiella', 'Streptococcus',\n",
       "       'Acinetobacter', 'Escherichia', 'Enterococcus', 'Pseudomonas',\n",
       "       'Enterobacter', 'Serratia', 'анаэр', 'Proteus', 'Stenotrophomonas',\n",
       "       'Burkholderia', 'Corynebacterium', 'Rothia', 'Micrococcus',\n",
       "       'Аchromobacter', 'Salmonella', 'Candida', 'Bacillus',\n",
       "       'Sphingomonas', 'Clostridium', 'Aicaligenes', 'Ochrobactrum',\n",
       "       'Citrobacter', 'Cryptococcus', 'Peptococcus', 'Lactobacillus',\n",
       "       'Morganella', 'Oligella', 'Brevundimonas'], dtype=object)"
      ]
     },
     "execution_count": 9,
     "metadata": {},
     "output_type": "execute_result"
    }
   ],
   "source": [
    "df.genus.unique()"
   ]
  },
  {
   "cell_type": "markdown",
   "id": "8560f2b3",
   "metadata": {},
   "source": [
    "**Виды бактерий**"
   ]
  },
  {
   "cell_type": "code",
   "execution_count": 10,
   "id": "9ba08c7b",
   "metadata": {},
   "outputs": [
    {
     "data": {
      "text/plain": [
       "array(['0', 'St. aureus', 'St. epidermidis', 'Kl. pneumoniae',\n",
       "       'Str. pneumoniae', 'Ac. baumannii', 'E. coli', 'Ent. faecium',\n",
       "       'Ps. alcaligenes', 'Ent. faecalis', 'St. warneri',\n",
       "       'Enterobacter cloacae', 'Ser. marcescens', 'Bacteroides fragilis',\n",
       "       'St. heamolyticus', 'Ps. aeruginosa', 'Clostridium spp.',\n",
       "       'St. intermedis', 'Prot. mirabilis',\n",
       "       'Stenotrophomonas maltophilia', 'Str. viridans',\n",
       "       'Pantoea agglomerans', 'Ac. junii', 'Ent. durans',\n",
       "       'St. saprophyticus', 'St. kloosii', 'Burkholderia ceprcia',\n",
       "       'Ac. haemolyticus', 'Str. salivarius', 'Str. mitis',\n",
       "       'Burkholderia cepecia', 'Ac. lwoffii', 'Corynebacterium spp.',\n",
       "       'St. capitis', 'Rothia mucilaginosa', 'Micrococcus spp.',\n",
       "       'St. hemolyticus', 'Аchromobacter species', 'Salm. interitidis',\n",
       "       'C. albicans', 'Bacillus spp.', 'Can. glabrata', 'St. hominis',\n",
       "       'Prot. vulgaris', 'Sphingomonas paucimobilis', 'Ac. species',\n",
       "       'Aicaligenes faecalis', 'Str. pyogenes', 'C. non alb.',\n",
       "       'Kl. ozaenae', 'Ochrobactrum anthropi', 'Citrobacter spp.',\n",
       "       'Cryptococcus', 'Peptococcus', 'C. tropicalis',\n",
       "       'Lactobacillus spp.', 'Morganella morganii', 'Oligella urethralis',\n",
       "       'Brevundimonas vesicularis'], dtype=object)"
      ]
     },
     "execution_count": 10,
     "metadata": {},
     "output_type": "execute_result"
    }
   ],
   "source": [
    "df.species.unique()"
   ]
  },
  {
   "cell_type": "markdown",
   "id": "d04e5bb2",
   "metadata": {
    "id": "d04e5bb2"
   },
   "source": []
  },
  {
   "cell_type": "markdown",
   "id": "6e1a2e8e",
   "metadata": {
    "id": "6e1a2e8e"
   },
   "source": [
    "### Датасет с отфильтрованными положительными результатами\n",
    "\n",
    "Создадим бинарный признак для положительных/отрицательных результатов и разделим выборку на исследования с положительным и с отрицательным результатом"
   ]
  },
  {
   "cell_type": "code",
   "execution_count": 11,
   "id": "93acae39",
   "metadata": {},
   "outputs": [],
   "source": [
    "#создаем признак positive со значениями 1 и 0\n",
    "df['positive'] = df['species'].apply(lambda x: 0 if x == '0' else 1)\n",
    "\n",
    "#создаем датасеты с положительными и отрицательными результатами\n",
    "pos = df.loc[df[\"positive\"] != 0].copy()\n",
    "neg = df.loc[df[\"positive\"] == 0].copy()"
   ]
  },
  {
   "cell_type": "markdown",
   "id": "b2a33f95",
   "metadata": {
    "id": "b2a33f95"
   },
   "source": [
    "## Визуализация распределения данных"
   ]
  },
  {
   "cell_type": "markdown",
   "id": "2fb2a2bf",
   "metadata": {
    "id": "2fb2a2bf"
   },
   "source": [
    "### Пожительные и отрицательные результаты\n",
    "\n",
    "Доли положительных и отрицательных результатов в выполненных исследованиях"
   ]
  },
  {
   "cell_type": "code",
   "execution_count": 12,
   "id": "ubc9NXFK-3Qb",
   "metadata": {
    "id": "ubc9NXFK-3Qb"
   },
   "outputs": [
    {
     "data": {
      "image/png": "[encoded data removed]",
      "text/plain": [
       "<Figure size 360x360 with 1 Axes>"
      ]
     },
     "metadata": {},
     "output_type": "display_data"
    }
   ],
   "source": [
    "fig = plt.figure(figsize=(5, 5))\n",
    "\n",
    "plt.title(\"Результаты посева крови\")\n",
    "plt.pie(\n",
    "    [neg.count()[0], pos.count()[0]],\n",
    "    labels=[\n",
    "        f\"{neg.count()[0]} положительные результаты\",\n",
    "        f\"{pos.count()[0]} отрицательные результаты\",\n",
    "    ],\n",
    "    textprops={\"fontsize\": 12},\n",
    "    autopct='%1.1f%%'\n",
    ");"
   ]
  },
  {
   "cell_type": "markdown",
   "id": "7ef4d9ed",
   "metadata": {
    "id": "7ef4d9ed"
   },
   "source": [
    "### Распределение положительных результатов по группам, родам и видам микроорганизмов\n",
    "\n",
    "Распределение по группам"
   ]
  },
  {
   "cell_type": "code",
   "execution_count": 13,
   "id": "3cda2480",
   "metadata": {
    "id": "3cda2480",
    "scrolled": false
   },
   "outputs": [
    {
     "data": {
      "text/plain": [
       "<AxesSubplot:xlabel='count', ylabel='group'>"
      ]
     },
     "execution_count": 13,
     "metadata": {},
     "output_type": "execute_result"
    },
    {
     "data": {
      "image/png": "[encoded data removed]",
      "text/plain": [
       "<Figure size 432x288 with 1 Axes>"
      ]
     },
     "metadata": {
      "needs_background": "light"
     },
     "output_type": "display_data"
    }
   ],
   "source": [
    "desc = pos.groupby('group').size().sort_values().index[::-1]\n",
    "sns.countplot(data=pos, y=\"group\", alpha=.7, color = 'b', order = desc)"
   ]
  },
  {
   "cell_type": "markdown",
   "id": "cd24ebbe",
   "metadata": {},
   "source": [
    "Распределение по родам, для 15 наиболее часто встречающихся"
   ]
  },
  {
   "cell_type": "code",
   "execution_count": 14,
   "id": "4131d4e2",
   "metadata": {
    "scrolled": true
   },
   "outputs": [
    {
     "data": {
      "text/plain": [
       "<AxesSubplot:xlabel='count', ylabel='genus'>"
      ]
     },
     "execution_count": 14,
     "metadata": {},
     "output_type": "execute_result"
    },
    {
     "data": {
      "image/png": "[encoded data removed]",
      "text/plain": [
       "<Figure size 576x360 with 1 Axes>"
      ]
     },
     "metadata": {
      "needs_background": "light"
     },
     "output_type": "display_data"
    }
   ],
   "source": [
    "plt.figure(figsize=(8, 5))\n",
    "desc = pos.groupby('genus').size().nlargest(15).sort_values().index[::-1]\n",
    "sns.countplot(data=pos, y=\"genus\", alpha=.7, color = 'b', order = desc)"
   ]
  },
  {
   "cell_type": "markdown",
   "id": "9c65f866",
   "metadata": {},
   "source": [
    "Распределение по видам, для 20 наиболее часто встречающихся"
   ]
  },
  {
   "cell_type": "code",
   "execution_count": 15,
   "id": "3c6b009d",
   "metadata": {},
   "outputs": [
    {
     "data": {
      "text/plain": [
       "<AxesSubplot:xlabel='count', ylabel='species'>"
      ]
     },
     "execution_count": 15,
     "metadata": {},
     "output_type": "execute_result"
    },
    {
     "data": {
      "image/png": "[encoded data removed]",
      "text/plain": [
       "<Figure size 576x360 with 1 Axes>"
      ]
     },
     "metadata": {
      "needs_background": "light"
     },
     "output_type": "display_data"
    }
   ],
   "source": [
    "plt.figure(figsize=(8, 5))\n",
    "desc = pos.groupby('species').size().nlargest(20).sort_values().index[::-1]\n",
    "sns.countplot(data=pos, y=\"species\", alpha=.7, color = 'b', order = desc)"
   ]
  },
  {
   "cell_type": "markdown",
   "id": "859daef6",
   "metadata": {
    "id": "859daef6"
   },
   "source": [
    "### Распределение положительных результатов по отделениям"
   ]
  },
  {
   "cell_type": "code",
   "execution_count": 16,
   "id": "unbtjI_xDOGT",
   "metadata": {
    "id": "unbtjI_xDOGT",
    "scrolled": true
   },
   "outputs": [
    {
     "data": {
      "text/plain": [
       "<AxesSubplot:xlabel='count', ylabel='department'>"
      ]
     },
     "execution_count": 16,
     "metadata": {},
     "output_type": "execute_result"
    },
    {
     "data": {
      "image/png": "[encoded data removed]",
      "text/plain": [
       "<Figure size 576x360 with 1 Axes>"
      ]
     },
     "metadata": {
      "needs_background": "light"
     },
     "output_type": "display_data"
    }
   ],
   "source": [
    "plt.figure(figsize=(8, 5))\n",
    "desc = pos.groupby('department').size().sort_values().index[::-1]\n",
    "sns.countplot(data=pos, y=\"department\", alpha=.7, color = 'b', order = desc)"
   ]
  },
  {
   "cell_type": "markdown",
   "id": "43a8c991",
   "metadata": {
    "id": "43a8c991"
   },
   "source": [
    "### Сводная таблица для количества и доли положительных результатов по отделениям\n",
    "\n",
    "Сортировка по доле положительных результатов, по убыванию"
   ]
  },
  {
   "cell_type": "code",
   "execution_count": 17,
   "id": "502bc956",
   "metadata": {
    "id": "502bc956",
    "scrolled": false
   },
   "outputs": [
    {
     "data": {
      "text/html": [
       "<div>\n",
       "<style scoped>\n",
       "    .dataframe tbody tr th:only-of-type {\n",
       "        vertical-align: middle;\n",
       "    }\n",
       "\n",
       "    .dataframe tbody tr th {\n",
       "        vertical-align: top;\n",
       "    }\n",
       "\n",
       "    .dataframe thead tr th {\n",
       "        text-align: left;\n",
       "    }\n",
       "\n",
       "    .dataframe thead tr:last-of-type th {\n",
       "        text-align: right;\n",
       "    }\n",
       "</style>\n",
       "<table border=\"1\" class=\"dataframe\">\n",
       "  <thead>\n",
       "    <tr>\n",
       "      <th></th>\n",
       "      <th>count</th>\n",
       "      <th>sum</th>\n",
       "      <th>mean</th>\n",
       "    </tr>\n",
       "    <tr>\n",
       "      <th></th>\n",
       "      <th>positive</th>\n",
       "      <th>positive</th>\n",
       "      <th>positive</th>\n",
       "    </tr>\n",
       "    <tr>\n",
       "      <th>department</th>\n",
       "      <th></th>\n",
       "      <th></th>\n",
       "      <th></th>\n",
       "    </tr>\n",
       "  </thead>\n",
       "  <tbody>\n",
       "    <tr>\n",
       "      <th>Эндокринология</th>\n",
       "      <td>70</td>\n",
       "      <td>15</td>\n",
       "      <td>0.214286</td>\n",
       "    </tr>\n",
       "    <tr>\n",
       "      <th>Реанимация</th>\n",
       "      <td>3240</td>\n",
       "      <td>655</td>\n",
       "      <td>0.202160</td>\n",
       "    </tr>\n",
       "    <tr>\n",
       "      <th>Нефрология</th>\n",
       "      <td>536</td>\n",
       "      <td>94</td>\n",
       "      <td>0.175373</td>\n",
       "    </tr>\n",
       "    <tr>\n",
       "      <th>Неврология</th>\n",
       "      <td>526</td>\n",
       "      <td>83</td>\n",
       "      <td>0.157795</td>\n",
       "    </tr>\n",
       "    <tr>\n",
       "      <th>Хирургия</th>\n",
       "      <td>537</td>\n",
       "      <td>82</td>\n",
       "      <td>0.152700</td>\n",
       "    </tr>\n",
       "    <tr>\n",
       "      <th>Ожог</th>\n",
       "      <td>41</td>\n",
       "      <td>6</td>\n",
       "      <td>0.146341</td>\n",
       "    </tr>\n",
       "    <tr>\n",
       "      <th>Поликлиника</th>\n",
       "      <td>180</td>\n",
       "      <td>23</td>\n",
       "      <td>0.127778</td>\n",
       "    </tr>\n",
       "    <tr>\n",
       "      <th>Кардиология</th>\n",
       "      <td>192</td>\n",
       "      <td>22</td>\n",
       "      <td>0.114583</td>\n",
       "    </tr>\n",
       "    <tr>\n",
       "      <th>Травма</th>\n",
       "      <td>18</td>\n",
       "      <td>2</td>\n",
       "      <td>0.111111</td>\n",
       "    </tr>\n",
       "    <tr>\n",
       "      <th>Терапия</th>\n",
       "      <td>1367</td>\n",
       "      <td>138</td>\n",
       "      <td>0.100951</td>\n",
       "    </tr>\n",
       "    <tr>\n",
       "      <th>Глазное/ЛОР</th>\n",
       "      <td>41</td>\n",
       "      <td>4</td>\n",
       "      <td>0.097561</td>\n",
       "    </tr>\n",
       "    <tr>\n",
       "      <th>Урология</th>\n",
       "      <td>703</td>\n",
       "      <td>66</td>\n",
       "      <td>0.093883</td>\n",
       "    </tr>\n",
       "    <tr>\n",
       "      <th>Гастроэнтерология</th>\n",
       "      <td>38</td>\n",
       "      <td>2</td>\n",
       "      <td>0.052632</td>\n",
       "    </tr>\n",
       "    <tr>\n",
       "      <th>Пульмонология</th>\n",
       "      <td>996</td>\n",
       "      <td>52</td>\n",
       "      <td>0.052209</td>\n",
       "    </tr>\n",
       "    <tr>\n",
       "      <th>Ревматология</th>\n",
       "      <td>235</td>\n",
       "      <td>11</td>\n",
       "      <td>0.046809</td>\n",
       "    </tr>\n",
       "    <tr>\n",
       "      <th>Гинекология</th>\n",
       "      <td>571</td>\n",
       "      <td>26</td>\n",
       "      <td>0.045534</td>\n",
       "    </tr>\n",
       "    <tr>\n",
       "      <th>Нейрохирургия</th>\n",
       "      <td>31</td>\n",
       "      <td>0</td>\n",
       "      <td>0.000000</td>\n",
       "    </tr>\n",
       "    <tr>\n",
       "      <th>ЧЛХ</th>\n",
       "      <td>11</td>\n",
       "      <td>0</td>\n",
       "      <td>0.000000</td>\n",
       "    </tr>\n",
       "  </tbody>\n",
       "</table>\n",
       "</div>"
      ],
      "text/plain": [
       "                     count      sum      mean\n",
       "                  positive positive  positive\n",
       "department                                   \n",
       "Эндокринология          70       15  0.214286\n",
       "Реанимация            3240      655  0.202160\n",
       "Нефрология             536       94  0.175373\n",
       "Неврология             526       83  0.157795\n",
       "Хирургия               537       82  0.152700\n",
       "Ожог                    41        6  0.146341\n",
       "Поликлиника            180       23  0.127778\n",
       "Кардиология            192       22  0.114583\n",
       "Травма                  18        2  0.111111\n",
       "Терапия               1367      138  0.100951\n",
       "Глазное/ЛОР             41        4  0.097561\n",
       "Урология               703       66  0.093883\n",
       "Гастроэнтерология       38        2  0.052632\n",
       "Пульмонология          996       52  0.052209\n",
       "Ревматология           235       11  0.046809\n",
       "Гинекология            571       26  0.045534\n",
       "Нейрохирургия           31        0  0.000000\n",
       "ЧЛХ                     11        0  0.000000"
      ]
     },
     "execution_count": 17,
     "metadata": {},
     "output_type": "execute_result"
    }
   ],
   "source": [
    "df.pivot_table(\n",
    "index = 'department',\n",
    "    values = 'positive',\n",
    "    aggfunc=['count', 'sum', 'mean']\n",
    ").sort_values(by = ('mean', 'positive'), ascending = False)"
   ]
  },
  {
   "cell_type": "markdown",
   "id": "dada6a54",
   "metadata": {
    "id": "dada6a54"
   },
   "source": [
    "### Распределение по длительности культивирования\n",
    "\n",
    "Для всех исследований"
   ]
  },
  {
   "cell_type": "code",
   "execution_count": 18,
   "id": "40996b44",
   "metadata": {
    "id": "40996b44",
    "outputId": "f26f0393-96e3-4484-c316-a46d81cf3741",
    "scrolled": false
   },
   "outputs": [
    {
     "data": {
      "text/plain": [
       "<AxesSubplot:xlabel='duration', ylabel='count'>"
      ]
     },
     "execution_count": 18,
     "metadata": {},
     "output_type": "execute_result"
    },
    {
     "data": {
      "image/png": "[encoded data removed]",
      "text/plain": [
       "<Figure size 432x288 with 1 Axes>"
      ]
     },
     "metadata": {
      "needs_background": "light"
     },
     "output_type": "display_data"
    }
   ],
   "source": [
    "sns.countplot(data=df, x=\"duration\", alpha=.7, color = 'b') "
   ]
  },
  {
   "cell_type": "markdown",
   "id": "f5857f73",
   "metadata": {},
   "source": [
    "Для положительных результатов"
   ]
  },
  {
   "cell_type": "code",
   "execution_count": 19,
   "id": "a4c89aca",
   "metadata": {
    "scrolled": true
   },
   "outputs": [
    {
     "data": {
      "text/plain": [
       "<AxesSubplot:xlabel='duration', ylabel='Density'>"
      ]
     },
     "execution_count": 19,
     "metadata": {},
     "output_type": "execute_result"
    },
    {
     "data": {
      "image/png": "[encoded data removed]",
      "text/plain": [
       "<Figure size 432x288 with 1 Axes>"
      ]
     },
     "metadata": {
      "needs_background": "light"
     },
     "output_type": "display_data"
    }
   ],
   "source": [
    "sns.kdeplot(data=pos, x=\"duration\", hue=\"method\", multiple=\"stack\")"
   ]
  },
  {
   "cell_type": "markdown",
   "id": "4f84516a",
   "metadata": {},
   "source": [
    "Интересно, что оба метода дают два пика по продолжительности культивирования. Определим медианные значения продолжительности культивирования для всех образцов и для положительных образцов"
   ]
  },
  {
   "cell_type": "code",
   "execution_count": 20,
   "id": "3b2127d0",
   "metadata": {
    "scrolled": true
   },
   "outputs": [
    {
     "name": "stdout",
     "output_type": "stream",
     "text": [
      "Медианная продолжительность культивирования для всех образцов, дней: 4.0\n"
     ]
    }
   ],
   "source": [
    "# медиана продолжительности культивирования\n",
    "print('Медианная продолжительность культивирования для всех образцов, дней:', df.duration.median())"
   ]
  },
  {
   "cell_type": "code",
   "execution_count": 21,
   "id": "9b878772",
   "metadata": {},
   "outputs": [
    {
     "name": "stdout",
     "output_type": "stream",
     "text": [
      "Медианная продолжительность культивирования для положительных образцов, дней: 5.0\n"
     ]
    }
   ],
   "source": [
    "# медиана продолжительности культивирования\n",
    "print('Медианная продолжительность культивирования для положительных образцов, дней:', pos.duration.median())"
   ]
  },
  {
   "cell_type": "markdown",
   "id": "dee30467",
   "metadata": {
    "id": "dee30467"
   },
   "source": [
    "### Распределение по методу (автоматический или ручной) для положительных результатов"
   ]
  },
  {
   "cell_type": "code",
   "execution_count": 22,
   "id": "32423029",
   "metadata": {
    "id": "32423029",
    "outputId": "7ca8c36c-6dea-44b3-c9f4-c6dd329278f9"
   },
   "outputs": [
    {
     "data": {
      "text/plain": [
       "<AxesSubplot:xlabel='method', ylabel='count'>"
      ]
     },
     "execution_count": 22,
     "metadata": {},
     "output_type": "execute_result"
    },
    {
     "data": {
      "image/png": "[encoded data removed]",
      "text/plain": [
       "<Figure size 432x288 with 1 Axes>"
      ]
     },
     "metadata": {
      "needs_background": "light"
     },
     "output_type": "display_data"
    }
   ],
   "source": [
    "sns.countplot(data=pos, x=\"method\", alpha=.8)"
   ]
  },
  {
   "cell_type": "markdown",
   "id": "c878c431",
   "metadata": {
    "id": "c878c431"
   },
   "source": [
    "### Распределение по контаминации для всех исследований"
   ]
  },
  {
   "cell_type": "code",
   "execution_count": 23,
   "id": "b613cb04",
   "metadata": {
    "colab": {
     "base_uri": "https://localhost:8080/",
     "height": 296
    },
    "id": "b613cb04",
    "outputId": "ec9b25d0-82e0-4d88-81de-f2abf4f5dc0e"
   },
   "outputs": [
    {
     "data": {
      "text/plain": [
       "<AxesSubplot:xlabel='contamination', ylabel='count'>"
      ]
     },
     "execution_count": 23,
     "metadata": {},
     "output_type": "execute_result"
    },
    {
     "data": {
      "image/png": "[encoded data removed]",
      "text/plain": [
       "<Figure size 432x288 with 1 Axes>"
      ]
     },
     "metadata": {
      "needs_background": "light"
     },
     "output_type": "display_data"
    }
   ],
   "source": [
    "sns.countplot(data=df, x=\"contamination\", hue = 'method', alpha=.8)"
   ]
  },
  {
   "cell_type": "markdown",
   "id": "2cd327c2",
   "metadata": {
    "id": "2cd327c2"
   },
   "source": [
    "## Графики для визуализации связей в данных"
   ]
  },
  {
   "cell_type": "markdown",
   "id": "e24d8adf",
   "metadata": {
    "id": "e24d8adf"
   },
   "source": [
    "### Распределение продолжительности культивирования для положительных результатов в зависимости от группы микроорганизма и метода культивирования"
   ]
  },
  {
   "cell_type": "code",
   "execution_count": 24,
   "id": "9416eac9",
   "metadata": {
    "scrolled": false
   },
   "outputs": [
    {
     "data": {
      "text/plain": [
       "<seaborn.axisgrid.FacetGrid at 0x273210c7100>"
      ]
     },
     "execution_count": 24,
     "metadata": {},
     "output_type": "execute_result"
    },
    {
     "data": {
      "image/png": "[encoded data removed]",
      "text/plain": [
       "<Figure size 721.5x432 with 1 Axes>"
      ]
     },
     "metadata": {
      "needs_background": "light"
     },
     "output_type": "display_data"
    }
   ],
   "source": [
    "\n",
    "sns.catplot(\n",
    "    data=pos, x=\"duration\", y=\"group\", hue=\"method\",\n",
    "    kind=\"violin\", bw=.25, cut=0, split=True, height=6, aspect=1.5\n",
    ")"
   ]
  },
  {
   "cell_type": "markdown",
   "id": "b79b72e7",
   "metadata": {},
   "source": [
    "### Распределение продолжительности культивирования для положительных результатов в зависимости от отделения и метода культивирования"
   ]
  },
  {
   "cell_type": "code",
   "execution_count": 25,
   "id": "ca629b67",
   "metadata": {},
   "outputs": [
    {
     "data": {
      "text/plain": [
       "<seaborn.axisgrid.FacetGrid at 0x27321064310>"
      ]
     },
     "execution_count": 25,
     "metadata": {},
     "output_type": "execute_result"
    },
    {
     "data": {
      "image/png": "[encoded data removed]",
      "text/plain": [
       "<Figure size 793.5x720 with 1 Axes>"
      ]
     },
     "metadata": {
      "needs_background": "light"
     },
     "output_type": "display_data"
    }
   ],
   "source": [
    "sns.catplot(\n",
    "    data=pos, x=\"duration\", y=\"department\", hue=\"method\",\n",
    "    kind=\"violin\", bw=.25, cut=0, split=True, height=10, aspect=1\n",
    ")"
   ]
  },
  {
   "cell_type": "markdown",
   "id": "54731327",
   "metadata": {
    "id": "54731327"
   },
   "source": [
    "### 20 наиболее частых диагнозов при положительных результатах исследования"
   ]
  },
  {
   "cell_type": "code",
   "execution_count": 26,
   "id": "7d776362",
   "metadata": {
    "id": "7d776362"
   },
   "outputs": [
    {
     "data": {
      "text/plain": [
       "<AxesSubplot:xlabel='count', ylabel='diagnosis'>"
      ]
     },
     "execution_count": 26,
     "metadata": {},
     "output_type": "execute_result"
    },
    {
     "data": {
      "image/png": "[encoded data removed]",
      "text/plain": [
       "<Figure size 576x720 with 1 Axes>"
      ]
     },
     "metadata": {
      "needs_background": "light"
     },
     "output_type": "display_data"
    }
   ],
   "source": [
    "plt.figure(figsize=(8, 10))\n",
    "desc = pos.groupby('diagnosis').size().nlargest(20).sort_values().index[::-1]\n",
    "sns.countplot(data=pos, y=\"diagnosis\", alpha=.7, color = 'b', order = desc)"
   ]
  },
  {
   "cell_type": "markdown",
   "id": "8d9300fc",
   "metadata": {
    "id": "8d9300fc"
   },
   "source": [
    "### Связь возбудителей с диагнозами и отделениями"
   ]
  },
  {
   "cell_type": "markdown",
   "id": "dafc4afe",
   "metadata": {},
   "source": [
    "Сводная таблица и тепловая карта по отделениям и количеству выявленных возбудителей из разных групп "
   ]
  },
  {
   "cell_type": "code",
   "execution_count": 28,
   "id": "343ffbf2",
   "metadata": {
    "id": "343ffbf2",
    "scrolled": false
   },
   "outputs": [
    {
     "data": {
      "text/html": [
       "<div>\n",
       "<style scoped>\n",
       "    .dataframe tbody tr th:only-of-type {\n",
       "        vertical-align: middle;\n",
       "    }\n",
       "\n",
       "    .dataframe tbody tr th {\n",
       "        vertical-align: top;\n",
       "    }\n",
       "\n",
       "    .dataframe thead th {\n",
       "        text-align: right;\n",
       "    }\n",
       "</style>\n",
       "<table border=\"1\" class=\"dataframe\">\n",
       "  <thead>\n",
       "    <tr style=\"text-align: right;\">\n",
       "      <th>group</th>\n",
       "      <th>Анаэробы</th>\n",
       "      <th>Грибы</th>\n",
       "      <th>Кокки</th>\n",
       "      <th>НГОБ</th>\n",
       "      <th>Прочее</th>\n",
       "      <th>Энтеробактерии</th>\n",
       "    </tr>\n",
       "    <tr>\n",
       "      <th>department</th>\n",
       "      <th></th>\n",
       "      <th></th>\n",
       "      <th></th>\n",
       "      <th></th>\n",
       "      <th></th>\n",
       "      <th></th>\n",
       "    </tr>\n",
       "  </thead>\n",
       "  <tbody>\n",
       "    <tr>\n",
       "      <th>Гастроэнтерология</th>\n",
       "      <td>NaN</td>\n",
       "      <td>NaN</td>\n",
       "      <td>2.0</td>\n",
       "      <td>NaN</td>\n",
       "      <td>NaN</td>\n",
       "      <td>NaN</td>\n",
       "    </tr>\n",
       "    <tr>\n",
       "      <th>Гинекология</th>\n",
       "      <td>NaN</td>\n",
       "      <td>NaN</td>\n",
       "      <td>18.0</td>\n",
       "      <td>NaN</td>\n",
       "      <td>4.0</td>\n",
       "      <td>4.0</td>\n",
       "    </tr>\n",
       "    <tr>\n",
       "      <th>Глазное/ЛОР</th>\n",
       "      <td>NaN</td>\n",
       "      <td>NaN</td>\n",
       "      <td>4.0</td>\n",
       "      <td>NaN</td>\n",
       "      <td>NaN</td>\n",
       "      <td>NaN</td>\n",
       "    </tr>\n",
       "    <tr>\n",
       "      <th>Кардиология</th>\n",
       "      <td>NaN</td>\n",
       "      <td>NaN</td>\n",
       "      <td>16.0</td>\n",
       "      <td>6.0</td>\n",
       "      <td>NaN</td>\n",
       "      <td>NaN</td>\n",
       "    </tr>\n",
       "    <tr>\n",
       "      <th>Неврология</th>\n",
       "      <td>NaN</td>\n",
       "      <td>5.0</td>\n",
       "      <td>60.0</td>\n",
       "      <td>3.0</td>\n",
       "      <td>5.0</td>\n",
       "      <td>10.0</td>\n",
       "    </tr>\n",
       "    <tr>\n",
       "      <th>Нефрология</th>\n",
       "      <td>NaN</td>\n",
       "      <td>NaN</td>\n",
       "      <td>62.0</td>\n",
       "      <td>12.0</td>\n",
       "      <td>5.0</td>\n",
       "      <td>15.0</td>\n",
       "    </tr>\n",
       "    <tr>\n",
       "      <th>Ожог</th>\n",
       "      <td>NaN</td>\n",
       "      <td>NaN</td>\n",
       "      <td>2.0</td>\n",
       "      <td>1.0</td>\n",
       "      <td>1.0</td>\n",
       "      <td>2.0</td>\n",
       "    </tr>\n",
       "    <tr>\n",
       "      <th>Поликлиника</th>\n",
       "      <td>NaN</td>\n",
       "      <td>NaN</td>\n",
       "      <td>14.0</td>\n",
       "      <td>3.0</td>\n",
       "      <td>NaN</td>\n",
       "      <td>6.0</td>\n",
       "    </tr>\n",
       "    <tr>\n",
       "      <th>Пульмонология</th>\n",
       "      <td>2.0</td>\n",
       "      <td>NaN</td>\n",
       "      <td>36.0</td>\n",
       "      <td>5.0</td>\n",
       "      <td>2.0</td>\n",
       "      <td>7.0</td>\n",
       "    </tr>\n",
       "    <tr>\n",
       "      <th>Реанимация</th>\n",
       "      <td>24.0</td>\n",
       "      <td>24.0</td>\n",
       "      <td>299.0</td>\n",
       "      <td>71.0</td>\n",
       "      <td>16.0</td>\n",
       "      <td>221.0</td>\n",
       "    </tr>\n",
       "    <tr>\n",
       "      <th>Ревматология</th>\n",
       "      <td>NaN</td>\n",
       "      <td>NaN</td>\n",
       "      <td>7.0</td>\n",
       "      <td>NaN</td>\n",
       "      <td>1.0</td>\n",
       "      <td>3.0</td>\n",
       "    </tr>\n",
       "    <tr>\n",
       "      <th>Терапия</th>\n",
       "      <td>2.0</td>\n",
       "      <td>NaN</td>\n",
       "      <td>94.0</td>\n",
       "      <td>5.0</td>\n",
       "      <td>13.0</td>\n",
       "      <td>24.0</td>\n",
       "    </tr>\n",
       "    <tr>\n",
       "      <th>Травма</th>\n",
       "      <td>NaN</td>\n",
       "      <td>NaN</td>\n",
       "      <td>1.0</td>\n",
       "      <td>NaN</td>\n",
       "      <td>NaN</td>\n",
       "      <td>1.0</td>\n",
       "    </tr>\n",
       "    <tr>\n",
       "      <th>Урология</th>\n",
       "      <td>1.0</td>\n",
       "      <td>NaN</td>\n",
       "      <td>38.0</td>\n",
       "      <td>2.0</td>\n",
       "      <td>5.0</td>\n",
       "      <td>20.0</td>\n",
       "    </tr>\n",
       "    <tr>\n",
       "      <th>Хирургия</th>\n",
       "      <td>2.0</td>\n",
       "      <td>NaN</td>\n",
       "      <td>50.0</td>\n",
       "      <td>6.0</td>\n",
       "      <td>5.0</td>\n",
       "      <td>19.0</td>\n",
       "    </tr>\n",
       "    <tr>\n",
       "      <th>Эндокринология</th>\n",
       "      <td>NaN</td>\n",
       "      <td>NaN</td>\n",
       "      <td>10.0</td>\n",
       "      <td>NaN</td>\n",
       "      <td>NaN</td>\n",
       "      <td>5.0</td>\n",
       "    </tr>\n",
       "  </tbody>\n",
       "</table>\n",
       "</div>"
      ],
      "text/plain": [
       "group              Анаэробы  Грибы  Кокки  НГОБ  Прочее  Энтеробактерии\n",
       "department                                                             \n",
       "Гастроэнтерология       NaN    NaN    2.0   NaN     NaN             NaN\n",
       "Гинекология             NaN    NaN   18.0   NaN     4.0             4.0\n",
       "Глазное/ЛОР             NaN    NaN    4.0   NaN     NaN             NaN\n",
       "Кардиология             NaN    NaN   16.0   6.0     NaN             NaN\n",
       "Неврология              NaN    5.0   60.0   3.0     5.0            10.0\n",
       "Нефрология              NaN    NaN   62.0  12.0     5.0            15.0\n",
       "Ожог                    NaN    NaN    2.0   1.0     1.0             2.0\n",
       "Поликлиника             NaN    NaN   14.0   3.0     NaN             6.0\n",
       "Пульмонология           2.0    NaN   36.0   5.0     2.0             7.0\n",
       "Реанимация             24.0   24.0  299.0  71.0    16.0           221.0\n",
       "Ревматология            NaN    NaN    7.0   NaN     1.0             3.0\n",
       "Терапия                 2.0    NaN   94.0   5.0    13.0            24.0\n",
       "Травма                  NaN    NaN    1.0   NaN     NaN             1.0\n",
       "Урология                1.0    NaN   38.0   2.0     5.0            20.0\n",
       "Хирургия                2.0    NaN   50.0   6.0     5.0            19.0\n",
       "Эндокринология          NaN    NaN   10.0   NaN     NaN             5.0"
      ]
     },
     "execution_count": 28,
     "metadata": {},
     "output_type": "execute_result"
    }
   ],
   "source": [
    "#сводная таблица для отделений и групп возбудителей\n",
    "pos.pivot_table(\n",
    "index = 'department',\n",
    "    values = 'positive',\n",
    "    columns = 'group',\n",
    "    aggfunc='count'\n",
    ")#.sort_values(by = ('sum', 'positive'), ascending = False)"
   ]
  },
  {
   "cell_type": "code",
   "execution_count": 29,
   "id": "014e2b0f",
   "metadata": {},
   "outputs": [
    {
     "data": {
      "image/png": "[encoded data removed]",
      "text/plain": [
       "<Figure size 720x720 with 2 Axes>"
      ]
     },
     "metadata": {
      "needs_background": "light"
     },
     "output_type": "display_data"
    }
   ],
   "source": [
    "fig, ax = plt.subplots(figsize=(10,10)) \n",
    "sns.heatmap(pos.pivot_table(\n",
    "index = 'department',\n",
    "    values = 'positive',\n",
    "    columns = 'group',\n",
    "    aggfunc='count'\n",
    "), cmap='coolwarm', annot = True, ax=ax);"
   ]
  },
  {
   "cell_type": "markdown",
   "id": "1e783dcd",
   "metadata": {},
   "source": [
    "Сводная таблица по диагнозам (20 наиболее частых при положительном ответе) и количеству выявленных возбудителей из разных групп"
   ]
  },
  {
   "cell_type": "code",
   "execution_count": 30,
   "id": "f3a8fa59",
   "metadata": {},
   "outputs": [
    {
     "data": {
      "text/html": [
       "<div>\n",
       "<style scoped>\n",
       "    .dataframe tbody tr th:only-of-type {\n",
       "        vertical-align: middle;\n",
       "    }\n",
       "\n",
       "    .dataframe tbody tr th {\n",
       "        vertical-align: top;\n",
       "    }\n",
       "\n",
       "    .dataframe thead th {\n",
       "        text-align: right;\n",
       "    }\n",
       "</style>\n",
       "<table border=\"1\" class=\"dataframe\">\n",
       "  <thead>\n",
       "    <tr style=\"text-align: right;\">\n",
       "      <th>group</th>\n",
       "      <th>Анаэробы</th>\n",
       "      <th>Грибы</th>\n",
       "      <th>Кокки</th>\n",
       "      <th>НГОБ</th>\n",
       "      <th>Прочее</th>\n",
       "      <th>Энтеробактерии</th>\n",
       "    </tr>\n",
       "    <tr>\n",
       "      <th>diagnosis</th>\n",
       "      <th></th>\n",
       "      <th></th>\n",
       "      <th></th>\n",
       "      <th></th>\n",
       "      <th></th>\n",
       "      <th></th>\n",
       "    </tr>\n",
       "  </thead>\n",
       "  <tbody>\n",
       "    <tr>\n",
       "      <th>Абсцесс</th>\n",
       "      <td>1.0</td>\n",
       "      <td>1.0</td>\n",
       "      <td>45.0</td>\n",
       "      <td>15.0</td>\n",
       "      <td>8.0</td>\n",
       "      <td>11.0</td>\n",
       "    </tr>\n",
       "    <tr>\n",
       "      <th>Бактериальный эндокардит</th>\n",
       "      <td>NaN</td>\n",
       "      <td>NaN</td>\n",
       "      <td>8.0</td>\n",
       "      <td>4.0</td>\n",
       "      <td>1.0</td>\n",
       "      <td>2.0</td>\n",
       "    </tr>\n",
       "    <tr>\n",
       "      <th>ЛНГ(лихорадка неясного генеза)</th>\n",
       "      <td>1.0</td>\n",
       "      <td>NaN</td>\n",
       "      <td>71.0</td>\n",
       "      <td>4.0</td>\n",
       "      <td>8.0</td>\n",
       "      <td>33.0</td>\n",
       "    </tr>\n",
       "    <tr>\n",
       "      <th>ОКН (острая кишечная непроходимость)</th>\n",
       "      <td>NaN</td>\n",
       "      <td>NaN</td>\n",
       "      <td>9.0</td>\n",
       "      <td>1.0</td>\n",
       "      <td>1.0</td>\n",
       "      <td>9.0</td>\n",
       "    </tr>\n",
       "    <tr>\n",
       "      <th>ОНМК</th>\n",
       "      <td>2.0</td>\n",
       "      <td>2.0</td>\n",
       "      <td>58.0</td>\n",
       "      <td>6.0</td>\n",
       "      <td>5.0</td>\n",
       "      <td>15.0</td>\n",
       "    </tr>\n",
       "    <tr>\n",
       "      <th>ОПН(острая почечная недостаточность)</th>\n",
       "      <td>2.0</td>\n",
       "      <td>2.0</td>\n",
       "      <td>50.0</td>\n",
       "      <td>11.0</td>\n",
       "      <td>2.0</td>\n",
       "      <td>39.0</td>\n",
       "    </tr>\n",
       "    <tr>\n",
       "      <th>Ожог</th>\n",
       "      <td>NaN</td>\n",
       "      <td>1.0</td>\n",
       "      <td>24.0</td>\n",
       "      <td>6.0</td>\n",
       "      <td>3.0</td>\n",
       "      <td>12.0</td>\n",
       "    </tr>\n",
       "    <tr>\n",
       "      <th>Осложнение после родов</th>\n",
       "      <td>NaN</td>\n",
       "      <td>NaN</td>\n",
       "      <td>17.0</td>\n",
       "      <td>NaN</td>\n",
       "      <td>2.0</td>\n",
       "      <td>4.0</td>\n",
       "    </tr>\n",
       "    <tr>\n",
       "      <th>Панкреатит</th>\n",
       "      <td>3.0</td>\n",
       "      <td>2.0</td>\n",
       "      <td>11.0</td>\n",
       "      <td>3.0</td>\n",
       "      <td>NaN</td>\n",
       "      <td>9.0</td>\n",
       "    </tr>\n",
       "    <tr>\n",
       "      <th>Перитонит</th>\n",
       "      <td>1.0</td>\n",
       "      <td>1.0</td>\n",
       "      <td>6.0</td>\n",
       "      <td>5.0</td>\n",
       "      <td>1.0</td>\n",
       "      <td>13.0</td>\n",
       "    </tr>\n",
       "    <tr>\n",
       "      <th>Пиелонефрит</th>\n",
       "      <td>1.0</td>\n",
       "      <td>NaN</td>\n",
       "      <td>30.0</td>\n",
       "      <td>2.0</td>\n",
       "      <td>NaN</td>\n",
       "      <td>15.0</td>\n",
       "    </tr>\n",
       "    <tr>\n",
       "      <th>Пневмония</th>\n",
       "      <td>4.0</td>\n",
       "      <td>1.0</td>\n",
       "      <td>76.0</td>\n",
       "      <td>15.0</td>\n",
       "      <td>2.0</td>\n",
       "      <td>17.0</td>\n",
       "    </tr>\n",
       "    <tr>\n",
       "      <th>Рак</th>\n",
       "      <td>NaN</td>\n",
       "      <td>NaN</td>\n",
       "      <td>24.0</td>\n",
       "      <td>9.0</td>\n",
       "      <td>NaN</td>\n",
       "      <td>19.0</td>\n",
       "    </tr>\n",
       "    <tr>\n",
       "      <th>СД (Сахарный диабет)</th>\n",
       "      <td>NaN</td>\n",
       "      <td>NaN</td>\n",
       "      <td>10.0</td>\n",
       "      <td>1.0</td>\n",
       "      <td>NaN</td>\n",
       "      <td>6.0</td>\n",
       "    </tr>\n",
       "    <tr>\n",
       "      <th>Сепсис</th>\n",
       "      <td>1.0</td>\n",
       "      <td>3.0</td>\n",
       "      <td>23.0</td>\n",
       "      <td>3.0</td>\n",
       "      <td>NaN</td>\n",
       "      <td>18.0</td>\n",
       "    </tr>\n",
       "    <tr>\n",
       "      <th>Сочетанная травма</th>\n",
       "      <td>NaN</td>\n",
       "      <td>2.0</td>\n",
       "      <td>4.0</td>\n",
       "      <td>1.0</td>\n",
       "      <td>NaN</td>\n",
       "      <td>10.0</td>\n",
       "    </tr>\n",
       "    <tr>\n",
       "      <th>ХПН (хроническая почечная недостаточность)</th>\n",
       "      <td>1.0</td>\n",
       "      <td>NaN</td>\n",
       "      <td>65.0</td>\n",
       "      <td>8.0</td>\n",
       "      <td>4.0</td>\n",
       "      <td>16.0</td>\n",
       "    </tr>\n",
       "    <tr>\n",
       "      <th>Холецистит</th>\n",
       "      <td>1.0</td>\n",
       "      <td>2.0</td>\n",
       "      <td>4.0</td>\n",
       "      <td>2.0</td>\n",
       "      <td>1.0</td>\n",
       "      <td>4.0</td>\n",
       "    </tr>\n",
       "    <tr>\n",
       "      <th>Цироз</th>\n",
       "      <td>1.0</td>\n",
       "      <td>2.0</td>\n",
       "      <td>6.0</td>\n",
       "      <td>2.0</td>\n",
       "      <td>1.0</td>\n",
       "      <td>4.0</td>\n",
       "    </tr>\n",
       "    <tr>\n",
       "      <th>Энцефалопатия</th>\n",
       "      <td>1.0</td>\n",
       "      <td>3.0</td>\n",
       "      <td>6.0</td>\n",
       "      <td>NaN</td>\n",
       "      <td>1.0</td>\n",
       "      <td>3.0</td>\n",
       "    </tr>\n",
       "  </tbody>\n",
       "</table>\n",
       "</div>"
      ],
      "text/plain": [
       "group                                       Анаэробы  Грибы  Кокки  НГОБ  \\\n",
       "diagnosis                                                                  \n",
       "Абсцесс                                          1.0    1.0   45.0  15.0   \n",
       "Бактериальный эндокардит                         NaN    NaN    8.0   4.0   \n",
       "ЛНГ(лихорадка неясного генеза)                   1.0    NaN   71.0   4.0   \n",
       "ОКН (острая кишечная непроходимость)             NaN    NaN    9.0   1.0   \n",
       "ОНМК                                             2.0    2.0   58.0   6.0   \n",
       "ОПН(острая почечная недостаточность)             2.0    2.0   50.0  11.0   \n",
       "Ожог                                             NaN    1.0   24.0   6.0   \n",
       "Осложнение после родов                           NaN    NaN   17.0   NaN   \n",
       "Панкреатит                                       3.0    2.0   11.0   3.0   \n",
       "Перитонит                                        1.0    1.0    6.0   5.0   \n",
       "Пиелонефрит                                      1.0    NaN   30.0   2.0   \n",
       "Пневмония                                        4.0    1.0   76.0  15.0   \n",
       "Рак                                              NaN    NaN   24.0   9.0   \n",
       "СД (Сахарный диабет)                             NaN    NaN   10.0   1.0   \n",
       "Сепсис                                           1.0    3.0   23.0   3.0   \n",
       "Сочетанная травма                                NaN    2.0    4.0   1.0   \n",
       "ХПН (хроническая почечная недостаточность)       1.0    NaN   65.0   8.0   \n",
       "Холецистит                                       1.0    2.0    4.0   2.0   \n",
       "Цироз                                            1.0    2.0    6.0   2.0   \n",
       "Энцефалопатия                                    1.0    3.0    6.0   NaN   \n",
       "\n",
       "group                                       Прочее  Энтеробактерии  \n",
       "diagnosis                                                           \n",
       "Абсцесс                                        8.0            11.0  \n",
       "Бактериальный эндокардит                       1.0             2.0  \n",
       "ЛНГ(лихорадка неясного генеза)                 8.0            33.0  \n",
       "ОКН (острая кишечная непроходимость)           1.0             9.0  \n",
       "ОНМК                                           5.0            15.0  \n",
       "ОПН(острая почечная недостаточность)           2.0            39.0  \n",
       "Ожог                                           3.0            12.0  \n",
       "Осложнение после родов                         2.0             4.0  \n",
       "Панкреатит                                     NaN             9.0  \n",
       "Перитонит                                      1.0            13.0  \n",
       "Пиелонефрит                                    NaN            15.0  \n",
       "Пневмония                                      2.0            17.0  \n",
       "Рак                                            NaN            19.0  \n",
       "СД (Сахарный диабет)                           NaN             6.0  \n",
       "Сепсис                                         NaN            18.0  \n",
       "Сочетанная травма                              NaN            10.0  \n",
       "ХПН (хроническая почечная недостаточность)     4.0            16.0  \n",
       "Холецистит                                     1.0             4.0  \n",
       "Цироз                                          1.0             4.0  \n",
       "Энцефалопатия                                  1.0             3.0  "
      ]
     },
     "execution_count": 30,
     "metadata": {},
     "output_type": "execute_result"
    }
   ],
   "source": [
    "# 20 наиболее частых диагнозов при положительном результате\n",
    "diag = list(pos.groupby('diagnosis').size().nlargest(20).index)\n",
    "# выборка с наиболее частыми диагнозами\n",
    "top20 = pos.query('diagnosis in @diag')\n",
    "\n",
    "#сводная таблица для \n",
    "top20.pivot_table(\n",
    "index = 'diagnosis',\n",
    "    values = 'positive',\n",
    "    columns = 'group',\n",
    "    aggfunc='count'\n",
    ")"
   ]
  },
  {
   "cell_type": "markdown",
   "id": "46e7bb90",
   "metadata": {
    "id": "46e7bb90"
   },
   "source": [
    "## Обучение модели для предсказания длительности культивирования"
   ]
  },
  {
   "cell_type": "markdown",
   "id": "7d775c9e",
   "metadata": {},
   "source": [
    "### Подготовка признаков для модели и создание выборок\n",
    "\n",
    "При поступлении в лабораторию известны: отделение, предполагаемый диагноз, задержка с момента забора материала. При исследовании выбирается метод: ручной или автоматический. \n",
    "Результат исследования - информация о группе, роде и виде возбудителя - получается через несколько дней и служит для корректировки терапии. Поэтому важно знать, сколько дней потребуется для получения результата при положительном тесте. \n",
    "\n",
    "Поэтому по имеющимся данным будем предсказывать время получения результата относительно медианного значения, равного 4 дням. Создадим столбец fast, в котором закодируем целевую переменную, то есть время получения положительного результата: 1 - менее 4 дней, 0 - от 4 дней. Для этого подготовим функцию, которая учитывает информацию о позитивном тесте и о продолжительности культивирования:"
   ]
  },
  {
   "cell_type": "code",
   "execution_count": 31,
   "id": "5715fb93",
   "metadata": {},
   "outputs": [],
   "source": [
    "def speed(row):\n",
    "    if row['positive'] == 1:\n",
    "        if row['duration'] <= 4:\n",
    "            fast = 1\n",
    "        else:\n",
    "            fast = 0\n",
    "    else:\n",
    "        fast = 0\n",
    "    return fast"
   ]
  },
  {
   "cell_type": "markdown",
   "id": "53a255cf",
   "metadata": {},
   "source": [
    "Применим функцию к датафрейму и создадим новый столбец с целевой переменной:"
   ]
  },
  {
   "cell_type": "code",
   "execution_count": 32,
   "id": "548a74b9",
   "metadata": {},
   "outputs": [
    {
     "name": "stdout",
     "output_type": "stream",
     "text": [
      "Доля быстрых положительных результатов: 0.06535947712418301\n"
     ]
    }
   ],
   "source": [
    "df['fast'] = df.apply(speed, axis = 1)\n",
    "print('Доля быстрых положительных результатов:', df.fast.mean())"
   ]
  },
  {
   "cell_type": "markdown",
   "id": "7d70ccab",
   "metadata": {},
   "source": [
    "Выберем столбцы в новый датафрейм:"
   ]
  },
  {
   "cell_type": "code",
   "execution_count": 33,
   "id": "80532667",
   "metadata": {},
   "outputs": [
    {
     "data": {
      "text/html": [
       "<div>\n",
       "<style scoped>\n",
       "    .dataframe tbody tr th:only-of-type {\n",
       "        vertical-align: middle;\n",
       "    }\n",
       "\n",
       "    .dataframe tbody tr th {\n",
       "        vertical-align: top;\n",
       "    }\n",
       "\n",
       "    .dataframe thead th {\n",
       "        text-align: right;\n",
       "    }\n",
       "</style>\n",
       "<table border=\"1\" class=\"dataframe\">\n",
       "  <thead>\n",
       "    <tr style=\"text-align: right;\">\n",
       "      <th></th>\n",
       "      <th>department</th>\n",
       "      <th>diagnosis</th>\n",
       "      <th>delay</th>\n",
       "      <th>method</th>\n",
       "      <th>fast</th>\n",
       "    </tr>\n",
       "  </thead>\n",
       "  <tbody>\n",
       "    <tr>\n",
       "      <th>0</th>\n",
       "      <td>Реанимация</td>\n",
       "      <td>ОПН(острая почечная недостаточность)</td>\n",
       "      <td>0</td>\n",
       "      <td>auto</td>\n",
       "      <td>0</td>\n",
       "    </tr>\n",
       "    <tr>\n",
       "      <th>1</th>\n",
       "      <td>Терапия</td>\n",
       "      <td>ЛНГ(лихорадка неясного генеза)</td>\n",
       "      <td>0</td>\n",
       "      <td>manual</td>\n",
       "      <td>0</td>\n",
       "    </tr>\n",
       "    <tr>\n",
       "      <th>2</th>\n",
       "      <td>Пульмонология</td>\n",
       "      <td>Бронхиальная астма</td>\n",
       "      <td>0</td>\n",
       "      <td>manual</td>\n",
       "      <td>0</td>\n",
       "    </tr>\n",
       "    <tr>\n",
       "      <th>3</th>\n",
       "      <td>Терапия</td>\n",
       "      <td>Цироз</td>\n",
       "      <td>0</td>\n",
       "      <td>manual</td>\n",
       "      <td>0</td>\n",
       "    </tr>\n",
       "    <tr>\n",
       "      <th>4</th>\n",
       "      <td>Пульмонология</td>\n",
       "      <td>Пневмония</td>\n",
       "      <td>0</td>\n",
       "      <td>manual</td>\n",
       "      <td>1</td>\n",
       "    </tr>\n",
       "  </tbody>\n",
       "</table>\n",
       "</div>"
      ],
      "text/plain": [
       "      department                             diagnosis  delay  method  fast\n",
       "0     Реанимация  ОПН(острая почечная недостаточность)      0    auto     0\n",
       "1        Терапия        ЛНГ(лихорадка неясного генеза)      0  manual     0\n",
       "2  Пульмонология                    Бронхиальная астма      0  manual     0\n",
       "3        Терапия                                 Цироз      0  manual     0\n",
       "4  Пульмонология                             Пневмония      0  manual     1"
      ]
     },
     "execution_count": 33,
     "metadata": {},
     "output_type": "execute_result"
    }
   ],
   "source": [
    "data = df[['department', 'diagnosis', 'delay', 'method', 'fast']].copy()\n",
    "data.head()"
   ]
  },
  {
   "cell_type": "markdown",
   "id": "ba4cbb26",
   "metadata": {},
   "source": [
    "Переведем столбцы в категориальные:"
   ]
  },
  {
   "cell_type": "code",
   "execution_count": 34,
   "id": "71871bd2",
   "metadata": {},
   "outputs": [],
   "source": [
    "categorical = ['department', 'diagnosis', 'method']\n",
    "for col in categorical:\n",
    "    data[col] = data[col].astype('category')"
   ]
  },
  {
   "cell_type": "markdown",
   "id": "b7757864",
   "metadata": {},
   "source": [
    "Разделим на обучающую и тестовую выборки:"
   ]
  },
  {
   "cell_type": "code",
   "execution_count": 35,
   "id": "6feec061",
   "metadata": {},
   "outputs": [
    {
     "data": {
      "text/plain": [
       "7466"
      ]
     },
     "execution_count": 35,
     "metadata": {},
     "output_type": "execute_result"
    }
   ],
   "source": [
    "# создаем таблицы с признаками и с целевым признаком:\n",
    "features = data.drop(['fast'], axis=1)\n",
    "target = data['fast']\n",
    "\n",
    "\n",
    "# выделяем из данных обучающую выборку с 80% данных\n",
    "X_train, X_test, y_train, y_test = (train_test_split(features, target, train_size=0.8,\n",
    "                                                     random_state=38))\n",
    "\n",
    "len(y_train)"
   ]
  },
  {
   "cell_type": "markdown",
   "id": "0f4270bf",
   "metadata": {},
   "source": [
    "Подготовим гиперпараметры и модель LGBMClassifier для обучения с кросс-валидацией, метрика для оценки - F1:"
   ]
  },
  {
   "cell_type": "code",
   "execution_count": 36,
   "id": "c621bb0f",
   "metadata": {},
   "outputs": [],
   "source": [
    "# создадим список гиперпараметров\n",
    "lgbm_parameters = {\n",
    "    'num_leaves': [9, 30],\n",
    "    'n_estimators': [95, 100],\n",
    "    'learning_rate': [0.1, 1],\n",
    "    'max_depth': [7, 9]\n",
    "}\n",
    "\n",
    "# создадим модель LGBMClassifier и передадим ее с параметрами для GridSearchCV\n",
    "lgbm = LGBMClassifier(random_state=38, class_weight = 'balanced')\n",
    "lgbm = GridSearchCV(lgbm,\n",
    "                    param_grid=lgbm_parameters,\n",
    "                    scoring='f1',\n",
    "                    cv=5)"
   ]
  },
  {
   "cell_type": "markdown",
   "id": "be9195a7",
   "metadata": {},
   "source": [
    "Выполним обучение:"
   ]
  },
  {
   "cell_type": "code",
   "execution_count": 37,
   "id": "502d9aad",
   "metadata": {
    "scrolled": true
   },
   "outputs": [
    {
     "name": "stdout",
     "output_type": "stream",
     "text": [
      "CPU times: total: 48.3 s\n",
      "Wall time: 16.1 s\n"
     ]
    },
    {
     "data": {
      "text/plain": [
       "GridSearchCV(cv=5,\n",
       "             estimator=LGBMClassifier(class_weight='balanced', random_state=38),\n",
       "             param_grid={'learning_rate': [0.1, 1], 'max_depth': [7, 9],\n",
       "                         'n_estimators': [95, 100], 'num_leaves': [9, 30]},\n",
       "             scoring='f1')"
      ]
     },
     "execution_count": 37,
     "metadata": {},
     "output_type": "execute_result"
    }
   ],
   "source": [
    "%%time\n",
    "# выполним обучение модели\n",
    "lgbm.fit(X_train, y_train)"
   ]
  },
  {
   "cell_type": "markdown",
   "id": "3ef2ef7b",
   "metadata": {},
   "source": [
    "Выведем наилучшие подобранные гиперпараметры, значение метрики, сохраним модель с наилучшими гиперпараметрами:"
   ]
  },
  {
   "cell_type": "code",
   "execution_count": 38,
   "id": "54b1c0f6",
   "metadata": {},
   "outputs": [
    {
     "name": "stdout",
     "output_type": "stream",
     "text": [
      "Подобранные значения гиперпараметров для LGBM Classifier : {'learning_rate': 0.1, 'max_depth': 9, 'n_estimators': 100, 'num_leaves': 30}\n",
      "Значение F1 для подобранных гиперпараметров LGBM Classifier: 0.17496913677925852\n"
     ]
    }
   ],
   "source": [
    "print(\"Подобранные значения гиперпараметров для LGBM Classifier :\", lgbm.best_params_)\n",
    "print(\"Значение F1 для подобранных гиперпараметров LGBM Classifier:\",lgbm.best_score_)\n",
    "\n",
    "# сохраним модель LGBMClassifier\n",
    "lgbm_clf = lgbm.best_estimator_"
   ]
  },
  {
   "cell_type": "markdown",
   "id": "305416f9",
   "metadata": {},
   "source": [
    "Вычислим значение f1 и ROC AUC для тестовой выборки:"
   ]
  },
  {
   "cell_type": "code",
   "execution_count": 39,
   "id": "643c6821",
   "metadata": {
    "scrolled": true
   },
   "outputs": [
    {
     "name": "stdout",
     "output_type": "stream",
     "text": [
      "F1 для тестовой выборки: 0.19220779220779224\n"
     ]
    }
   ],
   "source": [
    "#проверяем на тестовой выборке \n",
    "predictions = lgbm_clf.predict(X_test)\n",
    "f1_lgbm = f1_score(y_test, predictions)\n",
    "print(\"F1 для тестовой выборки:\", f1_lgbm)"
   ]
  },
  {
   "cell_type": "code",
   "execution_count": 40,
   "id": "cdc95b59",
   "metadata": {},
   "outputs": [
    {
     "name": "stdout",
     "output_type": "stream",
     "text": [
      "Значение ROC AUC = 0.677\n"
     ]
    }
   ],
   "source": [
    "#вычислим вероятности положительного класса для тестовой выборки\n",
    "lgbm_probs = lgbm_clf.predict_proba(X_test)[:,1]\n",
    "#рассчитаем значение ROC AUC\n",
    "lgbm_auc = roc_auc_score(y_test, lgbm_probs)\n",
    "print('Значение ROC AUC = %.3f' % (lgbm_auc))"
   ]
  },
  {
   "cell_type": "markdown",
   "id": "4165012c",
   "metadata": {},
   "source": [
    "Значение f1 очень низкое, но ROC AUC выше 0.5. Визуализируем кривую AUC ROC:"
   ]
  },
  {
   "cell_type": "code",
   "execution_count": 41,
   "id": "81ef51c3",
   "metadata": {},
   "outputs": [],
   "source": [
    "#вычислим значения FPR и TPR на основе определенных ранее вероятностей положительного результата на тестовой выборке\n",
    "fpr_lgbm, tpr_lgbm, treshold_lgbm = roc_curve(y_test, lgbm_probs)"
   ]
  },
  {
   "cell_type": "code",
   "execution_count": 42,
   "id": "b8c9e594",
   "metadata": {},
   "outputs": [
    {
     "data": {
      "image/png": "[encoded data removed]",
      "text/plain": [
       "<Figure size 576x576 with 1 Axes>"
      ]
     },
     "metadata": {
      "needs_background": "light"
     },
     "output_type": "display_data"
    }
   ],
   "source": [
    "plt.figure(figsize=(8,8))\n",
    "\n",
    "# график для модели LGBMClassifier\n",
    "plt.plot(fpr_lgbm, tpr_lgbm, color='darkorange',\n",
    "         label='Модель LGBMClassifier (area = %0.3f , F1 = %0.3f)' % (lgbm_auc, f1_lgbm))\n",
    "\n",
    "#диагональ\n",
    "plt.plot([0, 1], [0, 1], color='navy', linestyle='--')\n",
    "plt.xlim([0.0, 1.0])\n",
    "plt.ylim([0.0, 1.05])\n",
    "plt.xlabel('False Positive Rate')\n",
    "plt.ylabel('True Positive Rate')\n",
    "plt.title('ROC')\n",
    "plt.legend(loc=\"lower right\")\n",
    "plt.show()"
   ]
  },
  {
   "cell_type": "markdown",
   "id": "942aec2a",
   "metadata": {},
   "source": [
    "**Вывод** \n",
    "Подготовленная модель выполняет предсказания, будет ли быстро получен положительный результат, с немного большей вероятностью, чем случайный выбор."
   ]
  }
 ],
 "metadata": {
  "colab": {
   "provenance": []
  },
  "kernelspec": {
   "display_name": "Python 3 (ipykernel)",
   "language": "python",
   "name": "python3"
  },
  "language_info": {
   "codemirror_mode": {
    "name": "ipython",
    "version": 3
   },
   "file_extension": ".py",
   "mimetype": "text/x-python",
   "name": "python",
   "nbconvert_exporter": "python",
   "pygments_lexer": "ipython3",
   "version": "3.9.12"
  },
  "toc": {
   "base_numbering": 1,
   "nav_menu": {},
   "number_sections": true,
   "sideBar": true,
   "skip_h1_title": true,
   "title_cell": "Table of Contents",
   "title_sidebar": "Contents",
   "toc_cell": false,
   "toc_position": {
    "height": "calc(100% - 180px)",
    "left": "10px",
    "top": "150px",
    "width": "391.883px"
   },
   "toc_section_display": true,
   "toc_window_display": false
  }
 },
 "nbformat": 4,
 "nbformat_minor": 5
}
